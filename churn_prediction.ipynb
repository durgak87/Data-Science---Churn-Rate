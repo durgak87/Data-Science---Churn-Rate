{
  "nbformat": 4,
  "nbformat_minor": 0,
  "metadata": {
    "colab": {
      "provenance": []
    },
    "kernelspec": {
      "name": "python3",
      "display_name": "Python 3"
    },
    "language_info": {
      "name": "python"
    }
  },
  "cells": [
    {
      "cell_type": "code",
      "source": [
        "import streamlit as st\n",
        "import pandas as pd\n",
        "import numpy as np\n",
        "import pickle\n",
        "from PIL import Image\n",
        "img =  Image.open(\"churn.png\")\n",
        "st.image(img)\n",
        "from sklearn.preprocessing import LabelEncoder\n"
      ],
      "metadata": {
        "id": "71xRJDfEar87"
      },
      "execution_count": 16,
      "outputs": []
    },
    {
      "cell_type": "code",
      "source": [
        "#load the file\n",
        "with open(r'C:/Users/Vijaya/Project/classifier_randfc.pkl', 'rb') as file:\n",
        "    load_model = pickle.load(file)\n"
      ],
      "metadata": {
        "id": "xKoXrF0XlKLn"
      },
      "execution_count": 24,
      "outputs": []
    },
    {
      "cell_type": "code",
      "source": [
        "# Create the app layout\n",
        "st.title('Churn Prediction App')\n",
        "\n",
        "# Add input fields\n",
        "tenure = st.number_input('Tenure')\n",
        "paperless_billing = st.selectbox('Paperless Billing', ['No', 'Yes'])\n",
        "monthly_charges = st.number_input('Monthly Charges')\n",
        "senior_citizen = st.selectbox('Senior Citizen', ['No', 'Yes'])\n",
        "partner = st.selectbox('Partner', ['No', 'Yes'])\n",
        "dependents = st.selectbox('Dependents', ['No', 'Yes'])\n",
        "online_security = st.selectbox('Online Security', ['No', 'Yes'])\n",
        "online_backup = st.selectbox('Online Backup', ['No', 'Yes'])\n",
        "device_protection = st.selectbox('Device Protection', ['No', 'Yes'])\n",
        "tech_support = st.selectbox('Tech Support', ['No', 'Yes'])\n",
        "contract = st.selectbox('Contract', ['Monthly', 'One Year', 'Two Year'])\n",
        "payment = st.selectbox('Payment Method', ['Bank Transfer', 'Credit Card', 'Electronic Check'])\n",
        "internet_service = st.selectbox('Internet Service', ['DSL', 'Fiber Optic', 'No'])\n",
        "\n",
        "\n",
        "\n",
        "\n",
        "# Add a button for prediction\n",
        "if st.button('Predict Churn'):\n",
        "    # Perform prediction\n",
        "    input_data = [[tenure, paperless_billing, monthly_charges, senior_citizen, partner, dependents, online_security,\n",
        "                   online_backup, device_protection, tech_support, contract, payment, internet_service]]\n",
        "    prediction = load_model.predict(input_data)\n",
        "\n",
        "    # Display the prediction result\n",
        "    if prediction[0] == 0:\n",
        "        st.write('Customer is predicted to stay.')\n",
        "    else:\n",
        "        st.write('Customer is predicted to churn.')"
      ],
      "metadata": {
        "colab": {
          "base_uri": "https://localhost:8080/"
        },
        "id": "Oy7sL9c9eVty",
        "outputId": "1faae9da-f466-4a5a-a6f7-ca30b93b93a3"
      },
      "execution_count": 18,
      "outputs": [
        {
          "output_type": "stream",
          "name": "stderr",
          "text": [
            "2023-06-20 07:09:09.678 \n",
            "  \u001b[33m\u001b[1mWarning:\u001b[0m to view this Streamlit app on a browser, run it with the following\n",
            "  command:\n",
            "\n",
            "    streamlit run /usr/local/lib/python3.10/dist-packages/ipykernel_launcher.py [ARGUMENTS]\n"
          ]
        }
      ]
    }
  ]
}